{
 "cells": [
  {
   "cell_type": "code",
   "execution_count": 1,
   "metadata": {},
   "outputs": [
    {
     "name": "stdout",
     "output_type": "stream",
     "text": [
      "Greater London, Greater Manchester, West Midlands\n"
     ]
    }
   ],
   "source": [
    "myData = [\n",
    "    ['id', 'Name', 'Rank', 'Longitude', 'Latitude', 'Population'], \n",
    "    ['1', 'Greater London', '1', '-18162.92767', '6711153.709', '9787426'], \n",
    "    ['2', 'Greater Manchester', '2', '-251761.802', '7073067.458', '2553379'], \n",
    "    ['3', 'West Midlands', '3', '-210635.2396', '6878950.083', '2440986']\n",
    "]\n",
    "\n",
    "# What cities are in the data set?\n",
    "col = myData[0].index('Name')\n",
    "cities = []\n",
    "for i in range(1,len(myData)):\n",
    "    cities.append(myData[i][col])\n",
    "print(\", \".join(cities))"
   ]
  },
  {
   "cell_type": "code",
   "execution_count": 13,
   "metadata": {},
   "outputs": [
    {
     "name": "stdout",
     "output_type": "stream",
     "text": [
      "Greater London, Greater Manchester, Birmingham, Edinburgh, Inverness, Lerwick\n",
      "Manchester's population is 2705000\n",
      "Greater London\n"
     ]
    }
   ],
   "source": [
    "myData = {\n",
    "    'id'         : [0, 1, 2, 3, 4, 5],\n",
    "    'Name'       : ['Greater London', 'Greater Manchester', 'Birmingham','Edinburgh','Inverness','Lerwick'],\n",
    "    'Rank'       : [1, 2, 3, 4, 5, 6],\n",
    "    'Longitude'  : [-0.128, -2.245, -1.903, -3.189, -4.223, -1.145],\n",
    "    'Latitude'   : [51.507, 53.479, 52.480, 55.953, 57.478, 60.155],\n",
    "    'Population' : [9787426, 2705000, 1141816, 901455, 70000, 6958],\n",
    "}\n",
    "\n",
    "# What cities are in the data set?\n",
    "print(\", \".join(myData['Name']))\n",
    "\n",
    "city = 'Greater Manchester'\n",
    "pop = myData['Population'][ myData['Name'].index(city) ]\n",
    "print(f\"Manchester's population is {pop}\")\n",
    "      # Notice how 'f-strings' work!\n",
    "city = myData['Name'][\n",
    "    myData['Longitude'].index(max(myData['Longitude'])\n",
    "                             )\n",
    "]\n",
    "print(city)"
   ]
  },
  {
   "cell_type": "code",
   "execution_count": 16,
   "metadata": {},
   "outputs": [
    {
     "name": "stdout",
     "output_type": "stream",
     "text": [
      "2435442.5\n"
     ]
    }
   ],
   "source": [
    "import numpy as np\n",
    "mean = np.mean(myData['Population'])\n",
    "print(f\"{mean}\")"
   ]
  },
  {
   "cell_type": "code",
   "execution_count": 19,
   "metadata": {},
   "outputs": [
    {
     "name": "stdout",
     "output_type": "stream",
     "text": [
      "901455\n"
     ]
    }
   ],
   "source": [
    "fourth = sorted(myData['Population'], reverse = True)[3]\n",
    "print(fourth)"
   ]
  },
  {
   "cell_type": "code",
   "execution_count": 25,
   "metadata": {},
   "outputs": [
    {
     "name": "stdout",
     "output_type": "stream",
     "text": [
      "3\n",
      "Edinburgh\n"
     ]
    }
   ],
   "source": [
    "idx = myData['Population'].index(fourth)\n",
    "print(idx)\n",
    "city = myData['Name'][idx]\n",
    "print(city)"
   ]
  },
  {
   "cell_type": "code",
   "execution_count": 26,
   "metadata": {},
   "outputs": [
    {
     "name": "stdout",
     "output_type": "stream",
     "text": [
      "urlData has 101 rows and 26 columns.\n",
      "['40373464', 'Modern, Small Double Private Room']\n"
     ]
    }
   ],
   "source": [
    "from urllib.request import urlopen\n",
    "import csv\n",
    "\n",
    "url = \"https://github.com/jreades/i2p/raw/master/data/2020-08-24-sample-listings.csv\"\n",
    "\n",
    "urlData = [] # Somewhere to store the data\n",
    "\n",
    "response = urlopen(url) # Get the data using the urlopen function\n",
    "csvfile  = csv.reader(response.read().decode('utf-8').splitlines()) # Pass it over to the reader\n",
    "for row in csvfile:\n",
    "    urlData.append(row)\n",
    "\n",
    "print(\"urlData has \" + str(len(urlData)) + \" rows and \" + str(len(urlData[0])) + \" columns.\")\n",
    "print(urlData[-1][:2]) # Check it worked!"
   ]
  },
  {
   "cell_type": "code",
   "execution_count": 28,
   "metadata": {},
   "outputs": [
    {
     "name": "stdout",
     "output_type": "stream",
     "text": [
      "https://github.com/jreades/i2p/raw/master/data/2020-08-24-sample-listings.csv not found!\n"
     ]
    }
   ],
   "source": [
    "url = \"https://github.com/jreades/i2p/raw/master/data/2020-08-24-sample-listings.csv\"\n",
    "out = os.path.join('data','2020-08-24-sample-listings.csv')\n",
    "from urllib.request import urlopen\n",
    "import csv\n",
    "import os\n",
    "\n",
    "def get_url(src, dest):\n",
    "    \n",
    "    # Check if dest does *not* exist -- that\n",
    "    # would mean we had to download it!\n",
    "    if not os.path.isfile(src):\n",
    "        print(f\"{src} not found!\")\n",
    "    else:\n",
    "        print(f\"Found {src}!\")\n",
    "        \n",
    "get_url(url, out)"
   ]
  },
  {
   "cell_type": "code",
   "execution_count": 44,
   "metadata": {},
   "outputs": [
    {
     "name": "stdout",
     "output_type": "stream",
     "text": [
      "LoL has 101 rows and 26 columns.\n",
      "['id', 'name']\n",
      "['40373464', 'Modern, Small Double Private Room']\n"
     ]
    }
   ],
   "source": [
    "from urllib.request import urlopen\n",
    "import csv\n",
    "import os\n",
    "\n",
    "# Notice that it doesn't make sense to use `dest` as the \n",
    "# parameter name here because we always read *from* a data\n",
    "# source. Your names can be whatever you want, but they \n",
    "# should be logical wherever possible!\n",
    "def to_lol(lst):\n",
    "    \n",
    "    # Rest of code to read file and convert it goes here\n",
    "    csvdata = []\n",
    "    \n",
    "    # This is the same code that you used last week, but \n",
    "    # you'll have to rename some vars to get things to\n",
    "    # work for you here.\n",
    "    csvfile  = csv.reader(lst.read().decode('utf-8').splitlines())\n",
    "    for row in csvfile:              \n",
    "        csvdata.append( row )\n",
    "    \n",
    "    # Return list of lists\n",
    "    return csvdata\n",
    "        \n",
    "# Save the CSV-LoL to a new variable\n",
    "c= urlopen(url)\n",
    "clol = to_lol(c)\n",
    "print(f\"LoL has {len(clol)} rows and {len(clol[0])} columns.\")\n",
    "print(clol[0][:2])\n",
    "print(clol[-1][:2])"
   ]
  },
  {
   "cell_type": "code",
   "execution_count": 70,
   "metadata": {},
   "outputs": [
    {
     "name": "stdout",
     "output_type": "stream",
     "text": [
      "id, name, description, host_id, host_name, host_since, latitude, longitude, property_type, room_type, accommodates, bathrooms, bedrooms, beds, price, minimum_nights, maximum_nights, availability_30, availability_60, availability_90, availability_365, number_of_reviews, first_review, last_review, review_scores_rating, calculated_host_listings_count\n",
      "['25339003', '40259218']\n",
      "['An Amazing 4Bedroom Home, Central London, Sleeps12', 'Large Double Room - Maida Vale']\n",
      "['Entire home/apt', 'Private room']\n"
     ]
    },
    {
     "ename": "NameError",
     "evalue": "name 'lol' is not defined",
     "output_type": "error",
     "traceback": [
      "\u001b[0;31m---------------------------------------------------------------------------\u001b[0m",
      "\u001b[0;31mNameError\u001b[0m                                 Traceback (most recent call last)",
      "\u001b[0;32m<ipython-input-70-ba1eaaa970f5>\u001b[0m in \u001b[0;36m<module>\u001b[0;34m\u001b[0m\n\u001b[1;32m     33\u001b[0m         'first_review', 'last_review', 'review_scores_rating', 'calculated_host_listings_count']\n\u001b[1;32m     34\u001b[0m \u001b[0mdtype\u001b[0m \u001b[0;34m=\u001b[0m \u001b[0;34m[\u001b[0m\u001b[0;34m]\u001b[0m\u001b[0;34m\u001b[0m\u001b[0;34m\u001b[0m\u001b[0m\n\u001b[0;32m---> 35\u001b[0;31m \u001b[0;32mfor\u001b[0m \u001b[0mi\u001b[0m \u001b[0;32min\u001b[0m \u001b[0mlol\u001b[0m\u001b[0;34m[\u001b[0m\u001b[0;36m1\u001b[0m\u001b[0;34m]\u001b[0m\u001b[0;34m:\u001b[0m\u001b[0;34m\u001b[0m\u001b[0;34m\u001b[0m\u001b[0m\n\u001b[0m\u001b[1;32m     36\u001b[0m     \u001b[0mdtype\u001b[0m\u001b[0;34m.\u001b[0m\u001b[0mappend\u001b[0m\u001b[0;34m(\u001b[0m\u001b[0mtype\u001b[0m\u001b[0;34m(\u001b[0m\u001b[0mi\u001b[0m\u001b[0;34m)\u001b[0m\u001b[0;34m)\u001b[0m\u001b[0;34m\u001b[0m\u001b[0;34m\u001b[0m\u001b[0m\n\u001b[1;32m     37\u001b[0m \u001b[0mprint\u001b[0m\u001b[0;34m(\u001b[0m\u001b[0mdtype\u001b[0m\u001b[0;34m)\u001b[0m\u001b[0;34m\u001b[0m\u001b[0;34m\u001b[0m\u001b[0m\n",
      "\u001b[0;31mNameError\u001b[0m: name 'lol' is not defined"
     ]
    }
   ],
   "source": [
    "def to_dol(lol):\n",
    "    # Create empty dict-of-lists\n",
    "    ds = {}\n",
    "\n",
    "    # I had a version of this code that used\n",
    "    # lol.pop(0) since it made the for loop\n",
    "    # easier to read. But I changed my mind...\n",
    "    #\n",
    "    # Can you think why?\n",
    "    col_names = lol[0]\n",
    "    # Write the code to create the keys and empty lists\n",
    "    # Then values into a list attached to each key\n",
    "    # and write the code to append values to each list\n",
    "    for k in col_names:\n",
    "        ds[k]=[]\n",
    "    for row in lol[1:]:\n",
    "        for c in range(0,len(col_names)):\n",
    "            ds[col_names[c]].append(row[c])\n",
    "            \n",
    "    return ds\n",
    "\n",
    "ds = to_dol(clol)\n",
    "\n",
    "print(\", \".join(ds.keys()))\n",
    "print(ds['id'][:2])\n",
    "print(ds['name'][:2])\n",
    "print(ds['room_type'][:2])\n",
    "cols  = ['id', 'name', 'description', 'host_id', 'host_name', \n",
    "        'host_since', 'latitude', 'longitude', 'property_type', \n",
    "        'room_type', 'accommodates', 'bathrooms', 'bedrooms', 'beds', \n",
    "        'price', 'minimum_nights', 'maximum_nights', 'availability_30', \n",
    "        'availability_60', 'availability_90', 'availability_365', 'number_of_reviews', \n",
    "        'first_review', 'last_review', 'review_scores_rating', 'calculated_host_listings_count']\n",
    "dtype = []\n",
    "for i in lol[1]:\n",
    "    dtype.append(type(i))\n",
    "print(dtype)\n",
    "for d in zip(cols, dtype):\n",
    "     print(f\"Column ({d[0]:>20}) is type: {d[1].__name__}\")"
   ]
  },
  {
   "cell_type": "code",
   "execution_count": 71,
   "metadata": {},
   "outputs": [
    {
     "name": "stdout",
     "output_type": "stream",
     "text": [
      "[<class 'str'>, <class 'str'>, <class 'str'>, <class 'str'>, <class 'str'>, <class 'str'>, <class 'str'>, <class 'str'>, <class 'str'>, <class 'str'>, <class 'str'>, <class 'str'>, <class 'str'>, <class 'str'>, <class 'str'>, <class 'str'>, <class 'str'>, <class 'str'>, <class 'str'>, <class 'str'>, <class 'str'>, <class 'str'>, <class 'str'>, <class 'str'>, <class 'str'>, <class 'str'>]\n",
      "Column (                  id) is type: str\n",
      "Column (                name) is type: str\n",
      "Column (         description) is type: str\n",
      "Column (             host_id) is type: str\n",
      "Column (           host_name) is type: str\n",
      "Column (          host_since) is type: str\n",
      "Column (            latitude) is type: str\n",
      "Column (           longitude) is type: str\n",
      "Column (       property_type) is type: str\n",
      "Column (           room_type) is type: str\n",
      "Column (        accommodates) is type: str\n",
      "Column (           bathrooms) is type: str\n",
      "Column (            bedrooms) is type: str\n",
      "Column (                beds) is type: str\n",
      "Column (               price) is type: str\n",
      "Column (      minimum_nights) is type: str\n",
      "Column (      maximum_nights) is type: str\n",
      "Column (     availability_30) is type: str\n",
      "Column (     availability_60) is type: str\n",
      "Column (     availability_90) is type: str\n",
      "Column (    availability_365) is type: str\n",
      "Column (   number_of_reviews) is type: str\n",
      "Column (        first_review) is type: str\n",
      "Column (         last_review) is type: str\n",
      "Column (review_scores_rating) is type: str\n",
      "Column (calculated_host_listings_count) is type: str\n"
     ]
    }
   ],
   "source": [
    "cols  = ['id', 'name', 'description', 'host_id', 'host_name', \n",
    "        'host_since', 'latitude', 'longitude', 'property_type', \n",
    "        'room_type', 'accommodates', 'bathrooms', 'bedrooms', 'beds', \n",
    "        'price', 'minimum_nights', 'maximum_nights', 'availability_30', \n",
    "        'availability_60', 'availability_90', 'availability_365', 'number_of_reviews', \n",
    "        'first_review', 'last_review', 'review_scores_rating', 'calculated_host_listings_count']\n",
    "dtype = []\n",
    "for i in clol[1]:\n",
    "    dtype.append(type(i))\n",
    "print(dtype)\n",
    "for d in zip(cols, dtype):\n",
    "     print(f\"Column ({d[0]:>20}) is type: {d[1].__name__}\")"
   ]
  },
  {
   "cell_type": "code",
   "execution_count": 67,
   "metadata": {},
   "outputs": [
    {
     "name": "stdout",
     "output_type": "stream",
     "text": [
      "<class 'str'>\n",
      "<class 'int'>\n"
     ]
    }
   ],
   "source": [
    "a = \"id\"\n",
    "b = 1\n",
    "print(_class_)\n",
    "print(type(b))"
   ]
  },
  {
   "cell_type": "code",
   "execution_count": 129,
   "metadata": {},
   "outputs": [],
   "source": [
    "# Convert the raw data to data of the appropriate\n",
    "# type: 'column data' (cdata) -> 'column type' (ctype)\n",
    "def to_type(cdata, ctype):\n",
    "    # If a string\n",
    "    if isinstance(cdata, str):\n",
    "        try:\n",
    "            if ctype==bool:\n",
    "                return cdata==True\n",
    "            else:\n",
    "                return ctype(cdata)\n",
    "        except TypeError:\n",
    "            return cdata\n",
    "    \n",
    "    # Not a string (assume list)\n",
    "    else: \n",
    "        fdata = []\n",
    "        for c in cdata:\n",
    "            try:\n",
    "                if ctype==bool:\n",
    "                    fdata.append( c=='True' )\n",
    "                else:\n",
    "                    fdata.append( ctype(c) )\n",
    "            except:\n",
    "                fdata.append( c )\n",
    "        return fdata"
   ]
  },
  {
   "cell_type": "code",
   "execution_count": 134,
   "metadata": {},
   "outputs": [
    {
     "name": "stdout",
     "output_type": "stream",
     "text": [
      "['25339003', '40259218', '20097666']\n",
      "['Emily', 'Mantas', 'Thanyawan']\n",
      "['9.0', '1.0', '1.0']\n",
      "['23', '365', '0']\n",
      "['2020-03-01', '2020-02-08', '']\n"
     ]
    }
   ],
   "source": [
    "ds2 = {}\n",
    "for d in zip(cols, dtype):\n",
    "    ds2[ d[0] ] = to_type(ds[d[0]], d[1])\n",
    "print(ds2['id'][:3])\n",
    "print(ds2['host_name'][:3])\n",
    "print(ds2['beds'][:3])\n",
    "print(ds2['availability_365'][:3])\n",
    "print(ds2['last_review'][:3])"
   ]
  },
  {
   "cell_type": "code",
   "execution_count": null,
   "metadata": {},
   "outputs": [],
   "source": []
  },
  {
   "cell_type": "code",
   "execution_count": 168,
   "metadata": {},
   "outputs": [
    {
     "ename": "SyntaxError",
     "evalue": "invalid syntax (<ipython-input-168-04bad1f25b84>, line 2)",
     "output_type": "error",
     "traceback": [
      "\u001b[0;36m  File \u001b[0;32m\"<ipython-input-168-04bad1f25b84>\"\u001b[0;36m, line \u001b[0;32m2\u001b[0m\n\u001b[0;31m    def__init__(self):\u001b[0m\n\u001b[0m                      ^\u001b[0m\n\u001b[0;31mSyntaxError\u001b[0m\u001b[0;31m:\u001b[0m invalid syntax\n"
     ]
    }
   ],
   "source": [
    "class shape(object):\n",
    "    def__init__(self):\n",
    "class cube(shape):\n",
    "    shape_type=\"cube\"\n",
    "    def volume(self):\n",
    "        print(\"volume\")"
   ]
  },
  {
   "cell_type": "code",
   "execution_count": 157,
   "metadata": {},
   "outputs": [
    {
     "name": "stdout",
     "output_type": "stream",
     "text": [
      "[NbConvertApp] Converting notebook practical4.ipynb to python\n",
      "[NbConvertApp] Writing 7100 bytes to dtools/__init__.py\n"
     ]
    }
   ],
   "source": [
    "!jupyter nbconvert --ClearOutputPreprocessor.enabled=True \\\n",
    "    --to python --output=dtools/__init__.py \\\n",
    "    practical4.ipynb"
   ]
  },
  {
   "cell_type": "code",
   "execution_count": 123,
   "metadata": {},
   "outputs": [
    {
     "name": "stdout",
     "output_type": "stream",
     "text": [
      "nltk_data  work\n"
     ]
    }
   ],
   "source": [
    "!ls"
   ]
  },
  {
   "cell_type": "code",
   "execution_count": 154,
   "metadata": {},
   "outputs": [
    {
     "name": "stdout",
     "output_type": "stream",
     "text": [
      "/bin/bash: line 0: cd: too many arguments\n",
      "nltk_data  work\n"
     ]
    }
   ],
   "source": [
    "!cd \n",
    "!ls"
   ]
  },
  {
   "cell_type": "code",
   "execution_count": 151,
   "metadata": {},
   "outputs": [
    {
     "name": "stdout",
     "output_type": "stream",
     "text": [
      "nltk_data  work\n"
     ]
    }
   ],
   "source": [
    "!ls"
   ]
  },
  {
   "cell_type": "code",
   "execution_count": 119,
   "metadata": {},
   "outputs": [
    {
     "name": "stdout",
     "output_type": "stream",
     "text": [
      "/bin/bash: line 0: cd: …/work: No such file or directory\n"
     ]
    }
   ],
   "source": [
    "!cd "
   ]
  },
  {
   "cell_type": "code",
   "execution_count": 116,
   "metadata": {},
   "outputs": [
    {
     "name": "stdout",
     "output_type": "stream",
     "text": [
      "nltk_data  work\n"
     ]
    }
   ],
   "source": [
    "!ls"
   ]
  },
  {
   "cell_type": "code",
   "execution_count": 155,
   "metadata": {},
   "outputs": [
    {
     "name": "stdout",
     "output_type": "stream",
     "text": [
      "/home/jovyan/work\n",
      "ArcGIS\t\t\t VBoxDTrace.exe\t\t   VBoxSharedFolders.dll\n",
      "DbgPlugInDiggers.dll\t VBoxDbg.dll\t\t   VBoxSupLib.dll\n",
      "License_en_US.rtf\t VBoxDragAndDropSvc.dll    VBoxTestOGL.exe\n",
      "Qt5CoreVBox.dll\t\t VBoxExtPackHelperApp.exe  VBoxVMM.dll\n",
      "Qt5GuiVBox.dll\t\t VBoxGuestAdditions.iso    VBoxWebSrv.exe\n",
      "Qt5OpenGLVBox.dll\t VBoxGuestControlSvc.dll   VMMR0.r0\n",
      "Qt5PrintSupportVBox.dll  VBoxGuestPropSvc.dll\t   Vagrantfile\n",
      "Qt5WidgetsVBox.dll\t VBoxHeadless.dll\t   VirtualBox.chm\n",
      "Qt5WinExtrasVBox.dll\t VBoxHeadless.exe\t   VirtualBox.exe\n",
      "SDL.dll\t\t\t VBoxHostChannel.dll\t   VirtualBoxVM.dll\n",
      "UICommon.dll\t\t VBoxManage.exe\t\t   VirtualBoxVM.exe\n",
      "UnattendedTemplates\t VBoxNetDHCP.dll\t   doc\n",
      "VBoxAuth.dll\t\t VBoxNetDHCP.exe\t   drivers\n",
      "VBoxAuthSimple.dll\t VBoxNetNAT.dll\t\t   first_notebook.ipynb\n",
      "VBoxAutostartSvc.exe\t VBoxNetNAT.exe\t\t   i2p_practice\n",
      "VBoxBalloonCtrl.exe\t VBoxProxyStub.dll\t   msvcp100.dll\n",
      "VBoxBugReport.exe\t VBoxRT.dll\t\t   msvcr100.dll\n",
      "VBoxC.dll\t\t VBoxRes.dll\t\t   nls\n",
      "VBoxCAPI.dll\t\t VBoxSDL.dll\t\t   platforms\n",
      "VBoxDD.dll\t\t VBoxSDL.exe\t\t   sdk\n",
      "VBoxDD2.dll\t\t VBoxSDS.exe\t\t   vbox-img.exe\n",
      "VBoxDDR0.r0\t\t VBoxSVC.exe\t\t   vtx\n",
      "VBoxDDU.dll\t\t VBoxSharedClipboard.dll   x86\n"
     ]
    }
   ],
   "source": [
    "%cd work\n",
    "!ls"
   ]
  },
  {
   "cell_type": "code",
   "execution_count": 156,
   "metadata": {},
   "outputs": [
    {
     "name": "stdout",
     "output_type": "stream",
     "text": [
      "/home/jovyan/work/i2p_practice\n",
      " Practical_regression_VIF_logistic.ipynb.txt   jupter\n",
      " Untitled1.ipynb\t\t\t       practical4.ipynb\n",
      " Week2Practical.ipynb\t\t\t      'practice book.ipynb'\n",
      " dtools\t\t\t\t\t      'week3Practica;.ipynb'\n"
     ]
    }
   ],
   "source": [
    "%cd i2p_practice\n",
    "!ls"
   ]
  },
  {
   "cell_type": "code",
   "execution_count": 158,
   "metadata": {},
   "outputs": [],
   "source": [
    "%load_ext autoreload\n",
    "%autoreload 2"
   ]
  },
  {
   "cell_type": "code",
   "execution_count": 159,
   "metadata": {},
   "outputs": [
    {
     "ename": "SyntaxError",
     "evalue": "invalid syntax (__init__.py, line 269)",
     "output_type": "error",
     "traceback": [
      "Traceback \u001b[0;36m(most recent call last)\u001b[0m:\n",
      "  File \u001b[1;32m\"/opt/conda/envs/sds2020/lib/python3.7/site-packages/IPython/core/interactiveshell.py\"\u001b[0m, line \u001b[1;32m3417\u001b[0m, in \u001b[1;35mrun_code\u001b[0m\n    exec(code_obj, self.user_global_ns, self.user_ns)\n",
      "\u001b[0;36m  File \u001b[0;32m\"<ipython-input-159-0e92ff91104e>\"\u001b[0;36m, line \u001b[0;32m1\u001b[0;36m, in \u001b[0;35m<module>\u001b[0;36m\u001b[0m\n\u001b[0;31m    import dtools\u001b[0m\n",
      "\u001b[0;36m  File \u001b[0;32m\"/home/jovyan/work/i2p_practice/dtools/__init__.py\"\u001b[0;36m, line \u001b[0;32m269\u001b[0m\n\u001b[0;31m    def__init__(self,dimenson):\u001b[0m\n\u001b[0m                               ^\u001b[0m\n\u001b[0;31mSyntaxError\u001b[0m\u001b[0;31m:\u001b[0m invalid syntax\n"
     ]
    }
   ],
   "source": [
    "import dtools\n",
    "help(to_dol)"
   ]
  },
  {
   "cell_type": "code",
   "execution_count": null,
   "metadata": {},
   "outputs": [],
   "source": []
  }
 ],
 "metadata": {
  "kernelspec": {
   "display_name": "Python 3",
   "language": "python",
   "name": "python3"
  },
  "language_info": {
   "codemirror_mode": {
    "name": "ipython",
    "version": 3
   },
   "file_extension": ".py",
   "mimetype": "text/x-python",
   "name": "python",
   "nbconvert_exporter": "python",
   "pygments_lexer": "ipython3",
   "version": "3.7.8"
  }
 },
 "nbformat": 4,
 "nbformat_minor": 4
}
